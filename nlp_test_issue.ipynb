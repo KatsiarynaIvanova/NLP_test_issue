{
 "cells": [
  {
   "cell_type": "markdown",
   "id": "d1f7a9dd",
   "metadata": {},
   "source": [
    "# Named Entity Recognition"
   ]
  },
  {
   "cell_type": "markdown",
   "id": "7c37fcb3",
   "metadata": {},
   "source": [
    "Задачи:\n",
    "\n",
    "* Извлекать реплики с приветствием – где менеджер поздоровался. \n",
    "* Извлекать реплики, где менеджер представил себя. \n",
    "* Извлекать имя менеджера. \n",
    "* Извлекать название компании. \n",
    "* Извлекать реплики, где менеджер попрощался.\n",
    "* Проверять требование к менеджеру: «В каждом диалоге обязательно необходимо поздороваться и попрощаться с клиентом»\n"
   ]
  },
  {
   "cell_type": "markdown",
   "id": "45ad7148",
   "metadata": {},
   "source": [
    "# Предобработка текста"
   ]
  },
  {
   "cell_type": "code",
   "execution_count": 1,
   "id": "1275f50b",
   "metadata": {},
   "outputs": [],
   "source": [
    "import warnings\n",
    "warnings.filterwarnings('ignore')"
   ]
  },
  {
   "cell_type": "code",
   "execution_count": 2,
   "id": "88f8183d",
   "metadata": {},
   "outputs": [],
   "source": [
    "import pandas as pd\n",
    "import re\n",
    "import nltk\n",
    "import numpy as np\n",
    "import pymorphy2\n",
    "\n",
    "from nltk.corpus import stopwords\n",
    "from nltk.tokenize import word_tokenize\n",
    "from nltk.stem import WordNetLemmatizer"
   ]
  },
  {
   "cell_type": "code",
   "execution_count": 3,
   "id": "3951146a",
   "metadata": {},
   "outputs": [
    {
     "name": "stderr",
     "output_type": "stream",
     "text": [
      "[nltk_data] Downloading package wordnet to\n",
      "[nltk_data]     /Users/daivanov/nltk_data...\n",
      "[nltk_data]   Package wordnet is already up-to-date!\n",
      "[nltk_data] Downloading package stopwords to\n",
      "[nltk_data]     /Users/daivanov/nltk_data...\n",
      "[nltk_data]   Package stopwords is already up-to-date!\n"
     ]
    },
    {
     "data": {
      "text/plain": [
       "True"
      ]
     },
     "execution_count": 3,
     "metadata": {},
     "output_type": "execute_result"
    }
   ],
   "source": [
    "nltk.download('wordnet') \n",
    "nltk.download('stopwords')"
   ]
  },
  {
   "cell_type": "code",
   "execution_count": 4,
   "id": "f6115c50",
   "metadata": {},
   "outputs": [
    {
     "name": "stdout",
     "output_type": "stream",
     "text": [
      "Requirement already satisfied: pymorphy2 in /Users/daivanov/opt/anaconda3/envs/ds_practicum_env/lib/python3.9/site-packages (0.9.1)\n",
      "Requirement already satisfied: docopt>=0.6 in /Users/daivanov/opt/anaconda3/envs/ds_practicum_env/lib/python3.9/site-packages (from pymorphy2) (0.6.2)\n",
      "Requirement already satisfied: dawg-python>=0.7.1 in /Users/daivanov/opt/anaconda3/envs/ds_practicum_env/lib/python3.9/site-packages (from pymorphy2) (0.7.2)\n",
      "Requirement already satisfied: pymorphy2-dicts-ru<3.0,>=2.4 in /Users/daivanov/opt/anaconda3/envs/ds_practicum_env/lib/python3.9/site-packages (from pymorphy2) (2.4.417127.4579844)\n",
      "Note: you may need to restart the kernel to use updated packages.\n"
     ]
    }
   ],
   "source": [
    "pip install pymorphy2"
   ]
  },
  {
   "cell_type": "code",
   "execution_count": 5,
   "id": "c074fd2c",
   "metadata": {},
   "outputs": [
    {
     "data": {
      "text/html": [
       "<div>\n",
       "<style scoped>\n",
       "    .dataframe tbody tr th:only-of-type {\n",
       "        vertical-align: middle;\n",
       "    }\n",
       "\n",
       "    .dataframe tbody tr th {\n",
       "        vertical-align: top;\n",
       "    }\n",
       "\n",
       "    .dataframe thead th {\n",
       "        text-align: right;\n",
       "    }\n",
       "</style>\n",
       "<table border=\"1\" class=\"dataframe\">\n",
       "  <thead>\n",
       "    <tr style=\"text-align: right;\">\n",
       "      <th></th>\n",
       "      <th>dlg_id</th>\n",
       "      <th>line_n</th>\n",
       "      <th>role</th>\n",
       "      <th>text</th>\n",
       "    </tr>\n",
       "  </thead>\n",
       "  <tbody>\n",
       "    <tr>\n",
       "      <th>0</th>\n",
       "      <td>0</td>\n",
       "      <td>0</td>\n",
       "      <td>client</td>\n",
       "      <td>Алло</td>\n",
       "    </tr>\n",
       "    <tr>\n",
       "      <th>1</th>\n",
       "      <td>0</td>\n",
       "      <td>1</td>\n",
       "      <td>manager</td>\n",
       "      <td>Алло здравствуйте</td>\n",
       "    </tr>\n",
       "    <tr>\n",
       "      <th>2</th>\n",
       "      <td>0</td>\n",
       "      <td>2</td>\n",
       "      <td>client</td>\n",
       "      <td>Добрый день</td>\n",
       "    </tr>\n",
       "    <tr>\n",
       "      <th>3</th>\n",
       "      <td>0</td>\n",
       "      <td>3</td>\n",
       "      <td>manager</td>\n",
       "      <td>Меня зовут ангелина компания диджитал бизнес з...</td>\n",
       "    </tr>\n",
       "    <tr>\n",
       "      <th>4</th>\n",
       "      <td>0</td>\n",
       "      <td>4</td>\n",
       "      <td>client</td>\n",
       "      <td>Ага</td>\n",
       "    </tr>\n",
       "  </tbody>\n",
       "</table>\n",
       "</div>"
      ],
      "text/plain": [
       "   dlg_id  line_n     role                                               text\n",
       "0       0       0   client                                               Алло\n",
       "1       0       1  manager                                  Алло здравствуйте\n",
       "2       0       2   client                                        Добрый день\n",
       "3       0       3  manager  Меня зовут ангелина компания диджитал бизнес з...\n",
       "4       0       4   client                                                Ага"
      ]
     },
     "execution_count": 5,
     "metadata": {},
     "output_type": "execute_result"
    }
   ],
   "source": [
    "data = pd.read_csv('test_data.csv')\n",
    "data.head(5)"
   ]
  },
  {
   "cell_type": "code",
   "execution_count": 6,
   "id": "a6181e54",
   "metadata": {},
   "outputs": [
    {
     "name": "stdout",
     "output_type": "stream",
     "text": [
      "<class 'pandas.core.frame.DataFrame'>\n",
      "RangeIndex: 480 entries, 0 to 479\n",
      "Data columns (total 4 columns):\n",
      " #   Column  Non-Null Count  Dtype \n",
      "---  ------  --------------  ----- \n",
      " 0   dlg_id  480 non-null    int64 \n",
      " 1   line_n  480 non-null    int64 \n",
      " 2   role    480 non-null    object\n",
      " 3   text    480 non-null    object\n",
      "dtypes: int64(2), object(2)\n",
      "memory usage: 15.1+ KB\n"
     ]
    }
   ],
   "source": [
    "data.info()"
   ]
  },
  {
   "cell_type": "code",
   "execution_count": 7,
   "id": "c6ae012d",
   "metadata": {},
   "outputs": [],
   "source": [
    "# Напишем функцию позволяющею подготовить, очистить текст\n",
    "lemmatizer = WordNetLemmatizer()\n",
    "stopwords = set(stopwords.words('russian'))\n",
    "stopwords = stopwords.union(set(['что', 'это', 'так', 'вот', 'быть', 'как', 'в', '—', '–', 'к', 'на', 'угу']))\n",
    "\n",
    "def data_preparation(text):\n",
    "    \n",
    "    \"используем регулярные выражения для очистки текста\"\n",
    "        \n",
    "    text = re.sub(r'[^а-яА-Я]', ' ', text)\n",
    "    text = text.lower()\n",
    "    \n",
    "    text = nltk.word_tokenize(text)\n",
    "    text = [word for word in text if word not in stopwords]\n",
    "    \n",
    "    text_lemm = [lemmatizer.lemmatize(word) for word in text]\n",
    "    \n",
    "    clean_text = \" \".join(text_lemm)\n",
    "       \n",
    "    return clean_text\n",
    "\n",
    "data['clean_text'] = data['text'].apply(data_preparation)"
   ]
  },
  {
   "cell_type": "markdown",
   "id": "c0b31f2a",
   "metadata": {},
   "source": [
    "## Вывод"
   ]
  },
  {
   "cell_type": "markdown",
   "id": "ad45d369",
   "metadata": {},
   "source": [
    "\n",
    "Пропусков в данных нет, тип данных корректный.\n",
    "\n",
    "Во время очистки теста:\n",
    "* с помощью регулярных выражений оставляем только буквы, убираем все знаки препинания, если они есть. \n",
    "* По первым пяти строкам датасета видим, что только первое слово в реплике с большой буквы, а имена и название компании с маленькой,  поэтому следующим шагом можно привести весь текст к нижнему регистру.\n",
    "* Очищаем текст от стоп-слов. \n",
    "* Ощищенные и предобработанные реплики сохраняем в отдельный столбец.\n"
   ]
  },
  {
   "cell_type": "markdown",
   "id": "69ce79e3",
   "metadata": {},
   "source": [
    "# Извлекаем имя менеджера"
   ]
  },
  {
   "cell_type": "markdown",
   "id": "eb086c45",
   "metadata": {},
   "source": [
    "Извлечем все имена и запишем их в колонку `name` напротив реплики, где это имя употреблялось."
   ]
  },
  {
   "cell_type": "code",
   "execution_count": 8,
   "id": "31625cde",
   "metadata": {},
   "outputs": [],
   "source": [
    "prob_thresh = 0.4\n",
    "line_id = []\n",
    "name = []\n",
    "\n",
    "morph = pymorphy2.MorphAnalyzer()\n",
    "for i in range(len(data['clean_text'])):\n",
    "    text = data['clean_text'][i]\n",
    "    \n",
    "    for word in nltk.word_tokenize(text):\n",
    "        for p in morph.parse(word):\n",
    "            if 'Name' in p.tag and p.score >= prob_thresh:\n",
    "                line_id.append(i)\n",
    "                name.append(word)"
   ]
  },
  {
   "cell_type": "code",
   "execution_count": 9,
   "id": "89d7f0ec",
   "metadata": {},
   "outputs": [
    {
     "data": {
      "text/plain": [
       "3       ангелина\n",
       "111     ангелина\n",
       "159        денис\n",
       "167     ангелина\n",
       "250      дмитрий\n",
       "251       максим\n",
       "253      дмитрий\n",
       "253    анастасия\n",
       "338    анастасия\n",
       "341         дима\n",
       "358    анастасия\n",
       "438     вячеслав\n",
       "444       максим\n",
       "472      дмитрий\n",
       "Name: name, dtype: object"
      ]
     },
     "execution_count": 9,
     "metadata": {},
     "output_type": "execute_result"
    }
   ],
   "source": [
    "name = pd.Series(data=name, index=line_id, name=\"name\")\n",
    "name"
   ]
  },
  {
   "cell_type": "code",
   "execution_count": 10,
   "id": "e298af11",
   "metadata": {},
   "outputs": [],
   "source": [
    "df = data.join(name, how='left')"
   ]
  },
  {
   "cell_type": "markdown",
   "id": "1db9b419",
   "metadata": {},
   "source": [
    "# Извлекаем реплики с приветствием – где менеджер поздоровался"
   ]
  },
  {
   "cell_type": "markdown",
   "id": "94295fcf",
   "metadata": {},
   "source": [
    "Предположим, что способов поздароваться в нашем случае не очень много и будем искать вхождение приветственных слов в реплику. Так как приветствие обычно звучит в начале, установим, что номер реплики не должен превышать 3. Нас интересуют только реплики менеджера, поэтому сделаем срез по датасету."
   ]
  },
  {
   "cell_type": "code",
   "execution_count": 11,
   "id": "df546fdc",
   "metadata": {},
   "outputs": [],
   "source": [
    "data_manager_index = data.query('role == \"manager\"')\n",
    "data_manager = data_manager_index.reset_index()"
   ]
  },
  {
   "cell_type": "code",
   "execution_count": 12,
   "id": "e87354e4",
   "metadata": {},
   "outputs": [],
   "source": [
    "data_manager = data_manager.drop('index', axis=1)"
   ]
  },
  {
   "cell_type": "code",
   "execution_count": 13,
   "id": "cc9105a0",
   "metadata": {},
   "outputs": [],
   "source": [
    "greeting = ['здрав', 'добр', 'приве']\n",
    "number_greeting = []   \n",
    "for i in range(len(data_manager['text'])):\n",
    "    for word in greeting:\n",
    "        if word in data_manager['clean_text'][i] and data_manager['line_n'][i] < 3:\n",
    "            number_greeting.append(i)\n",
    "        else:\n",
    "            pass"
   ]
  },
  {
   "cell_type": "code",
   "execution_count": 14,
   "id": "99745359",
   "metadata": {},
   "outputs": [],
   "source": [
    "greeting_ser = pd.Series(data=['True']*len(number_greeting), index=number_greeting, name=\"greeting\")\n",
    "data_manager = data_manager.join(greeting_ser, how='left')"
   ]
  },
  {
   "cell_type": "code",
   "execution_count": 15,
   "id": "96c7a965",
   "metadata": {},
   "outputs": [
    {
     "data": {
      "text/html": [
       "<div>\n",
       "<style scoped>\n",
       "    .dataframe tbody tr th:only-of-type {\n",
       "        vertical-align: middle;\n",
       "    }\n",
       "\n",
       "    .dataframe tbody tr th {\n",
       "        vertical-align: top;\n",
       "    }\n",
       "\n",
       "    .dataframe thead th {\n",
       "        text-align: right;\n",
       "    }\n",
       "</style>\n",
       "<table border=\"1\" class=\"dataframe\">\n",
       "  <thead>\n",
       "    <tr style=\"text-align: right;\">\n",
       "      <th></th>\n",
       "      <th>dlg_id</th>\n",
       "      <th>line_n</th>\n",
       "      <th>role</th>\n",
       "      <th>text</th>\n",
       "      <th>clean_text</th>\n",
       "      <th>greeting</th>\n",
       "    </tr>\n",
       "  </thead>\n",
       "  <tbody>\n",
       "    <tr>\n",
       "      <th>0</th>\n",
       "      <td>0</td>\n",
       "      <td>1</td>\n",
       "      <td>manager</td>\n",
       "      <td>Алло здравствуйте</td>\n",
       "      <td>алло здравствуйте</td>\n",
       "      <td>True</td>\n",
       "    </tr>\n",
       "    <tr>\n",
       "      <th>1</th>\n",
       "      <td>0</td>\n",
       "      <td>3</td>\n",
       "      <td>manager</td>\n",
       "      <td>Меня зовут ангелина компания диджитал бизнес з...</td>\n",
       "      <td>зовут ангелина компания диджитал бизнес звоним...</td>\n",
       "      <td>NaN</td>\n",
       "    </tr>\n",
       "  </tbody>\n",
       "</table>\n",
       "</div>"
      ],
      "text/plain": [
       "   dlg_id  line_n     role                                               text  \\\n",
       "0       0       1  manager                                  Алло здравствуйте   \n",
       "1       0       3  manager  Меня зовут ангелина компания диджитал бизнес з...   \n",
       "\n",
       "                                          clean_text greeting  \n",
       "0                                  алло здравствуйте     True  \n",
       "1  зовут ангелина компания диджитал бизнес звоним...      NaN  "
      ]
     },
     "execution_count": 15,
     "metadata": {},
     "output_type": "execute_result"
    }
   ],
   "source": [
    "data_manager.head(2)"
   ]
  },
  {
   "cell_type": "markdown",
   "id": "fa1df641",
   "metadata": {},
   "source": [
    "# Извлекаeм реплики, где менеджер попрощался"
   ]
  },
  {
   "cell_type": "code",
   "execution_count": 16,
   "id": "0a4318cf",
   "metadata": {},
   "outputs": [],
   "source": [
    "bye_word = ['свидан', 'добр', 'скоро']\n",
    "number_bye = []   \n",
    "for i in range(len(data_manager['text'])):\n",
    "    for word in bye_word:\n",
    "        if word in data_manager['clean_text'][i] and data_manager['line_n'][i] > 3:\n",
    "            number_bye.append(i)\n",
    "        else:\n",
    "            pass"
   ]
  },
  {
   "cell_type": "code",
   "execution_count": 17,
   "id": "cd1b5c4f",
   "metadata": {},
   "outputs": [
    {
     "data": {
      "text/html": [
       "<div>\n",
       "<style scoped>\n",
       "    .dataframe tbody tr th:only-of-type {\n",
       "        vertical-align: middle;\n",
       "    }\n",
       "\n",
       "    .dataframe tbody tr th {\n",
       "        vertical-align: top;\n",
       "    }\n",
       "\n",
       "    .dataframe thead th {\n",
       "        text-align: right;\n",
       "    }\n",
       "</style>\n",
       "<table border=\"1\" class=\"dataframe\">\n",
       "  <thead>\n",
       "    <tr style=\"text-align: right;\">\n",
       "      <th></th>\n",
       "      <th>dlg_id</th>\n",
       "      <th>line_n</th>\n",
       "      <th>role</th>\n",
       "      <th>text</th>\n",
       "      <th>clean_text</th>\n",
       "      <th>greeting</th>\n",
       "      <th>bye_word</th>\n",
       "    </tr>\n",
       "  </thead>\n",
       "  <tbody>\n",
       "    <tr>\n",
       "      <th>199</th>\n",
       "      <td>5</td>\n",
       "      <td>139</td>\n",
       "      <td>manager</td>\n",
       "      <td>Все я вам высылаю счет и с вами на связи если ...</td>\n",
       "      <td>высылаю счет вами связи будут вопросы можете п...</td>\n",
       "      <td>NaN</td>\n",
       "      <td>NaN</td>\n",
       "    </tr>\n",
       "    <tr>\n",
       "      <th>200</th>\n",
       "      <td>5</td>\n",
       "      <td>142</td>\n",
       "      <td>manager</td>\n",
       "      <td>Ну до свидания хорошего вечера</td>\n",
       "      <td>свидания хорошего вечера</td>\n",
       "      <td>NaN</td>\n",
       "      <td>True</td>\n",
       "    </tr>\n",
       "  </tbody>\n",
       "</table>\n",
       "</div>"
      ],
      "text/plain": [
       "     dlg_id  line_n     role  \\\n",
       "199       5     139  manager   \n",
       "200       5     142  manager   \n",
       "\n",
       "                                                  text  \\\n",
       "199  Все я вам высылаю счет и с вами на связи если ...   \n",
       "200                     Ну до свидания хорошего вечера   \n",
       "\n",
       "                                            clean_text greeting bye_word  \n",
       "199  высылаю счет вами связи будут вопросы можете п...      NaN      NaN  \n",
       "200                           свидания хорошего вечера      NaN     True  "
      ]
     },
     "execution_count": 17,
     "metadata": {},
     "output_type": "execute_result"
    }
   ],
   "source": [
    "bye_ser = pd.Series(data=['True']*len(number_bye), index=number_bye, name=\"bye_word\")\n",
    "data_manager = data_manager.join(bye_ser, how='left')\n",
    "data_manager.tail(2)"
   ]
  },
  {
   "cell_type": "markdown",
   "id": "150f2dc1",
   "metadata": {},
   "source": [
    "# Проверять требование к менеджеру: «В каждом диалоге обязательно необходимо поздороваться и попрощаться с клиентом»"
   ]
  },
  {
   "cell_type": "code",
   "execution_count": 18,
   "id": "1fb3e1c0",
   "metadata": {},
   "outputs": [],
   "source": [
    "data_manager_group = data_manager.groupby('dlg_id')[['greeting', 'bye_word']].count()"
   ]
  },
  {
   "cell_type": "code",
   "execution_count": 19,
   "id": "d2cbd230",
   "metadata": {},
   "outputs": [
    {
     "data": {
      "text/html": [
       "<div>\n",
       "<style scoped>\n",
       "    .dataframe tbody tr th:only-of-type {\n",
       "        vertical-align: middle;\n",
       "    }\n",
       "\n",
       "    .dataframe tbody tr th {\n",
       "        vertical-align: top;\n",
       "    }\n",
       "\n",
       "    .dataframe thead th {\n",
       "        text-align: right;\n",
       "    }\n",
       "</style>\n",
       "<table border=\"1\" class=\"dataframe\">\n",
       "  <thead>\n",
       "    <tr style=\"text-align: right;\">\n",
       "      <th></th>\n",
       "      <th>greeting</th>\n",
       "      <th>bye_word</th>\n",
       "    </tr>\n",
       "    <tr>\n",
       "      <th>dlg_id</th>\n",
       "      <th></th>\n",
       "      <th></th>\n",
       "    </tr>\n",
       "  </thead>\n",
       "  <tbody>\n",
       "    <tr>\n",
       "      <th>0</th>\n",
       "      <td>1</td>\n",
       "      <td>1</td>\n",
       "    </tr>\n",
       "    <tr>\n",
       "      <th>1</th>\n",
       "      <td>1</td>\n",
       "      <td>1</td>\n",
       "    </tr>\n",
       "    <tr>\n",
       "      <th>2</th>\n",
       "      <td>1</td>\n",
       "      <td>0</td>\n",
       "    </tr>\n",
       "    <tr>\n",
       "      <th>3</th>\n",
       "      <td>2</td>\n",
       "      <td>1</td>\n",
       "    </tr>\n",
       "    <tr>\n",
       "      <th>4</th>\n",
       "      <td>0</td>\n",
       "      <td>1</td>\n",
       "    </tr>\n",
       "    <tr>\n",
       "      <th>5</th>\n",
       "      <td>0</td>\n",
       "      <td>1</td>\n",
       "    </tr>\n",
       "  </tbody>\n",
       "</table>\n",
       "</div>"
      ],
      "text/plain": [
       "        greeting  bye_word\n",
       "dlg_id                    \n",
       "0              1         1\n",
       "1              1         1\n",
       "2              1         0\n",
       "3              2         1\n",
       "4              0         1\n",
       "5              0         1"
      ]
     },
     "execution_count": 19,
     "metadata": {},
     "output_type": "execute_result"
    }
   ],
   "source": [
    "data_manager_group"
   ]
  },
  {
   "cell_type": "code",
   "execution_count": 20,
   "id": "ee1eb6f1",
   "metadata": {},
   "outputs": [
    {
     "name": "stdout",
     "output_type": "stream",
     "text": [
      "В диалоге 1 менеджер поздоровался и попрощался с клиентом\n",
      "В диалоге 2 менеджер только поздаровался или порощался\n",
      "В диалоге 3 менеджер поздоровался и попрощался с клиентом\n",
      "В диалоге 4 менеджер только поздаровался или порощался\n",
      "В диалоге 5 менеджер только поздаровался или порощался\n"
     ]
    }
   ],
   "source": [
    "for i in range(1, 6):\n",
    "    if data_manager_group['greeting'][i] != 0 and data_manager_group['bye_word'][i] !=0:\n",
    "        print(f'В диалоге {i} менеджер поздоровался и попрощался с клиентом')\n",
    "    elif (data_manager_group['greeting'][i] == 0 and data_manager_group['bye_word'][i] !=0 or\n",
    "    data_manager_group['greeting'][i] != 0 and data_manager_group['bye_word'][i] ==0):\n",
    "        print(f'В диалоге {i} менеджер только поздаровался или порощался')\n",
    "    else:\n",
    "        print('Менеджер не поздаровался и не попращался')"
   ]
  },
  {
   "cell_type": "markdown",
   "id": "2f674061",
   "metadata": {},
   "source": [
    "## Вывод:"
   ]
  },
  {
   "cell_type": "markdown",
   "id": "bb4e441d",
   "metadata": {},
   "source": [
    "* Из 6 диалогов только в 3-х менеджер поздоровался и попрощался."
   ]
  },
  {
   "cell_type": "markdown",
   "id": "58c48f6b",
   "metadata": {},
   "source": [
    "# Извлекаeм название компании"
   ]
  },
  {
   "cell_type": "markdown",
   "id": "5881e66c",
   "metadata": {},
   "source": [
    "Предположим, что когда менеджер или клиент говорит название компании он употребляет слово компания. Будем искать реплики по вхождению этого слова."
   ]
  },
  {
   "cell_type": "code",
   "execution_count": 21,
   "id": "2cee7dd0",
   "metadata": {},
   "outputs": [],
   "source": [
    "company = ['компани', 'организац', 'фирма']\n",
    "number_company = []\n",
    "company_name=[]\n",
    "for i in range(len(df['text'])-1):\n",
    "    for word in company:\n",
    "        if word in df['clean_text'][i]:\n",
    "            number_company.append(i)\n",
    "            \n",
    "            t = df['clean_text'][i]\n",
    "            name = ' '.join(t.split(word)[1].split(' ')[1:3])# 3 words \n",
    "            company_name.append(name)\n",
    "        else:\n",
    "            pass\n"
   ]
  },
  {
   "cell_type": "code",
   "execution_count": 22,
   "id": "0fd010c3",
   "metadata": {},
   "outputs": [
    {
     "data": {
      "text/plain": [
       "['диджитал бизнес',\n",
       " 'которая нам',\n",
       " 'которые звонят',\n",
       " 'которой работаю',\n",
       " 'поэтому',\n",
       " 'даю просто',\n",
       " 'которая принципе',\n",
       " '',\n",
       " 'которые',\n",
       " '',\n",
       " '',\n",
       " 'которая работает',\n",
       " 'которая звонит',\n",
       " '',\n",
       " 'диджитал бизнес',\n",
       " 'диджитал бизнес',\n",
       " 'называется',\n",
       " 'китобизнес удобно',\n",
       " 'которые внедрить',\n",
       " '',\n",
       " 'интеграции сделаны']"
      ]
     },
     "execution_count": 22,
     "metadata": {},
     "output_type": "execute_result"
    }
   ],
   "source": [
    "company_name"
   ]
  },
  {
   "cell_type": "code",
   "execution_count": 23,
   "id": "0ed400dd",
   "metadata": {},
   "outputs": [
    {
     "data": {
      "text/html": [
       "<div>\n",
       "<style scoped>\n",
       "    .dataframe tbody tr th:only-of-type {\n",
       "        vertical-align: middle;\n",
       "    }\n",
       "\n",
       "    .dataframe tbody tr th {\n",
       "        vertical-align: top;\n",
       "    }\n",
       "\n",
       "    .dataframe thead th {\n",
       "        text-align: right;\n",
       "    }\n",
       "</style>\n",
       "<table border=\"1\" class=\"dataframe\">\n",
       "  <thead>\n",
       "    <tr style=\"text-align: right;\">\n",
       "      <th></th>\n",
       "      <th>dlg_id</th>\n",
       "      <th>line_n</th>\n",
       "      <th>role</th>\n",
       "      <th>text</th>\n",
       "      <th>clean_text</th>\n",
       "      <th>name</th>\n",
       "      <th>company</th>\n",
       "    </tr>\n",
       "  </thead>\n",
       "  <tbody>\n",
       "    <tr>\n",
       "      <th>0</th>\n",
       "      <td>0</td>\n",
       "      <td>0</td>\n",
       "      <td>client</td>\n",
       "      <td>Алло</td>\n",
       "      <td>алло</td>\n",
       "      <td>NaN</td>\n",
       "      <td>NaN</td>\n",
       "    </tr>\n",
       "    <tr>\n",
       "      <th>1</th>\n",
       "      <td>0</td>\n",
       "      <td>1</td>\n",
       "      <td>manager</td>\n",
       "      <td>Алло здравствуйте</td>\n",
       "      <td>алло здравствуйте</td>\n",
       "      <td>NaN</td>\n",
       "      <td>NaN</td>\n",
       "    </tr>\n",
       "    <tr>\n",
       "      <th>2</th>\n",
       "      <td>0</td>\n",
       "      <td>2</td>\n",
       "      <td>client</td>\n",
       "      <td>Добрый день</td>\n",
       "      <td>добрый день</td>\n",
       "      <td>NaN</td>\n",
       "      <td>NaN</td>\n",
       "    </tr>\n",
       "    <tr>\n",
       "      <th>3</th>\n",
       "      <td>0</td>\n",
       "      <td>3</td>\n",
       "      <td>manager</td>\n",
       "      <td>Меня зовут ангелина компания диджитал бизнес з...</td>\n",
       "      <td>зовут ангелина компания диджитал бизнес звоним...</td>\n",
       "      <td>ангелина</td>\n",
       "      <td>диджитал бизнес</td>\n",
       "    </tr>\n",
       "    <tr>\n",
       "      <th>4</th>\n",
       "      <td>0</td>\n",
       "      <td>4</td>\n",
       "      <td>client</td>\n",
       "      <td>Ага</td>\n",
       "      <td>ага</td>\n",
       "      <td>NaN</td>\n",
       "      <td>NaN</td>\n",
       "    </tr>\n",
       "  </tbody>\n",
       "</table>\n",
       "</div>"
      ],
      "text/plain": [
       "   dlg_id  line_n     role                                               text  \\\n",
       "0       0       0   client                                               Алло   \n",
       "1       0       1  manager                                  Алло здравствуйте   \n",
       "2       0       2   client                                        Добрый день   \n",
       "3       0       3  manager  Меня зовут ангелина компания диджитал бизнес з...   \n",
       "4       0       4   client                                                Ага   \n",
       "\n",
       "                                          clean_text      name  \\\n",
       "0                                               алло       NaN   \n",
       "1                                  алло здравствуйте       NaN   \n",
       "2                                        добрый день       NaN   \n",
       "3  зовут ангелина компания диджитал бизнес звоним...  ангелина   \n",
       "4                                                ага       NaN   \n",
       "\n",
       "           company  \n",
       "0              NaN  \n",
       "1              NaN  \n",
       "2              NaN  \n",
       "3  диджитал бизнес  \n",
       "4              NaN  "
      ]
     },
     "execution_count": 23,
     "metadata": {},
     "output_type": "execute_result"
    }
   ],
   "source": [
    "com_ser = pd.Series(data= company_name[0:4], index=number_company[0:4], name=\"company\")\n",
    "df = df.join(com_ser, how='left')\n",
    "df.head(5)"
   ]
  },
  {
   "cell_type": "markdown",
   "id": "bcbd8e4f",
   "metadata": {},
   "source": [
    "## Вывод"
   ]
  },
  {
   "cell_type": "markdown",
   "id": "95b8d9a5",
   "metadata": {},
   "source": [
    "* Наш способ работает далеко неидельно, человек может употреблять слово компания не называя саму компанию или давать общую характеристику компании, например, транспортная компания."
   ]
  },
  {
   "cell_type": "markdown",
   "id": "fdb857ec",
   "metadata": {},
   "source": [
    "# Извлекаем реплики, где менеджер представил себя."
   ]
  },
  {
   "cell_type": "markdown",
   "id": "e65a3bb6",
   "metadata": {},
   "source": [
    "Вероятнее всего менеджер представил себя в репликах, где есть имена."
   ]
  },
  {
   "cell_type": "code",
   "execution_count": 24,
   "id": "8cbdeecb",
   "metadata": {},
   "outputs": [],
   "source": [
    "introduce_word = ['зову', 'это ', ' я ']\n",
    "number_introduce = []   \n",
    "for i in range(len(data_manager['text'])):\n",
    "    for word in introduce_word:\n",
    "        if word in data_manager['clean_text'][i]:\n",
    "            number_introduce.append(i)\n",
    "        else:\n",
    "            pass"
   ]
  },
  {
   "cell_type": "code",
   "execution_count": 25,
   "id": "5854b2d7",
   "metadata": {},
   "outputs": [
    {
     "data": {
      "text/html": [
       "<div>\n",
       "<style scoped>\n",
       "    .dataframe tbody tr th:only-of-type {\n",
       "        vertical-align: middle;\n",
       "    }\n",
       "\n",
       "    .dataframe tbody tr th {\n",
       "        vertical-align: top;\n",
       "    }\n",
       "\n",
       "    .dataframe thead th {\n",
       "        text-align: right;\n",
       "    }\n",
       "</style>\n",
       "<table border=\"1\" class=\"dataframe\">\n",
       "  <thead>\n",
       "    <tr style=\"text-align: right;\">\n",
       "      <th></th>\n",
       "      <th>dlg_id</th>\n",
       "      <th>line_n</th>\n",
       "      <th>role</th>\n",
       "      <th>text</th>\n",
       "      <th>clean_text</th>\n",
       "      <th>greeting</th>\n",
       "      <th>bye_word</th>\n",
       "      <th>introduce_yourself</th>\n",
       "    </tr>\n",
       "  </thead>\n",
       "  <tbody>\n",
       "    <tr>\n",
       "      <th>0</th>\n",
       "      <td>0</td>\n",
       "      <td>1</td>\n",
       "      <td>manager</td>\n",
       "      <td>Алло здравствуйте</td>\n",
       "      <td>алло здравствуйте</td>\n",
       "      <td>True</td>\n",
       "      <td>NaN</td>\n",
       "      <td>NaN</td>\n",
       "    </tr>\n",
       "    <tr>\n",
       "      <th>1</th>\n",
       "      <td>0</td>\n",
       "      <td>3</td>\n",
       "      <td>manager</td>\n",
       "      <td>Меня зовут ангелина компания диджитал бизнес з...</td>\n",
       "      <td>зовут ангелина компания диджитал бизнес звоним...</td>\n",
       "      <td>NaN</td>\n",
       "      <td>NaN</td>\n",
       "      <td>True</td>\n",
       "    </tr>\n",
       "    <tr>\n",
       "      <th>2</th>\n",
       "      <td>0</td>\n",
       "      <td>5</td>\n",
       "      <td>manager</td>\n",
       "      <td>Угу ну возможно вы рассмотрите и другие вариан...</td>\n",
       "      <td>возможно рассмотрите другие варианты видите хо...</td>\n",
       "      <td>NaN</td>\n",
       "      <td>NaN</td>\n",
       "      <td>NaN</td>\n",
       "    </tr>\n",
       "    <tr>\n",
       "      <th>3</th>\n",
       "      <td>0</td>\n",
       "      <td>8</td>\n",
       "      <td>manager</td>\n",
       "      <td>Угу а на что вы обращаете внимание при выборе</td>\n",
       "      <td>обращаете внимание выборе</td>\n",
       "      <td>NaN</td>\n",
       "      <td>NaN</td>\n",
       "      <td>NaN</td>\n",
       "    </tr>\n",
       "    <tr>\n",
       "      <th>4</th>\n",
       "      <td>0</td>\n",
       "      <td>11</td>\n",
       "      <td>manager</td>\n",
       "      <td>Что для вас приоритет</td>\n",
       "      <td>приоритет</td>\n",
       "      <td>NaN</td>\n",
       "      <td>NaN</td>\n",
       "      <td>NaN</td>\n",
       "    </tr>\n",
       "  </tbody>\n",
       "</table>\n",
       "</div>"
      ],
      "text/plain": [
       "   dlg_id  line_n     role                                               text  \\\n",
       "0       0       1  manager                                  Алло здравствуйте   \n",
       "1       0       3  manager  Меня зовут ангелина компания диджитал бизнес з...   \n",
       "2       0       5  manager  Угу ну возможно вы рассмотрите и другие вариан...   \n",
       "3       0       8  manager      Угу а на что вы обращаете внимание при выборе   \n",
       "4       0      11  manager                              Что для вас приоритет   \n",
       "\n",
       "                                          clean_text greeting bye_word  \\\n",
       "0                                  алло здравствуйте     True      NaN   \n",
       "1  зовут ангелина компания диджитал бизнес звоним...      NaN      NaN   \n",
       "2  возможно рассмотрите другие варианты видите хо...      NaN      NaN   \n",
       "3                          обращаете внимание выборе      NaN      NaN   \n",
       "4                                          приоритет      NaN      NaN   \n",
       "\n",
       "  introduce_yourself  \n",
       "0                NaN  \n",
       "1               True  \n",
       "2                NaN  \n",
       "3                NaN  \n",
       "4                NaN  "
      ]
     },
     "execution_count": 25,
     "metadata": {},
     "output_type": "execute_result"
    }
   ],
   "source": [
    "introduce_ser = pd.Series(data=['True']*len(number_introduce), index=number_introduce, name=\"introduce_yourself\")\n",
    "data_manager = data_manager.join(introduce_ser, how='left')\n",
    "data_manager.head(5)"
   ]
  },
  {
   "cell_type": "markdown",
   "id": "4ef8ee82",
   "metadata": {},
   "source": [
    "# Объединяем полученную информацию"
   ]
  },
  {
   "cell_type": "markdown",
   "id": "3dbe5a03",
   "metadata": {},
   "source": [
    "Соберем всю полученную информацию в итоговый датасет."
   ]
  },
  {
   "cell_type": "code",
   "execution_count": 27,
   "id": "97d4b91d",
   "metadata": {},
   "outputs": [],
   "source": [
    "index = list(data_manager_index.index)"
   ]
  },
  {
   "cell_type": "code",
   "execution_count": 51,
   "id": "08532442",
   "metadata": {},
   "outputs": [],
   "source": [
    "data_manager_f = data_manager[['greeting', 'bye_word', 'introduce_yourself']]\n",
    "data_manager_f['index'] = index\n",
    "data_manager_f = data_manager_f.set_index('index')"
   ]
  },
  {
   "cell_type": "code",
   "execution_count": 52,
   "id": "559a5d36",
   "metadata": {},
   "outputs": [],
   "source": [
    "data_final = df.join(data_manager_f, how='left')"
   ]
  },
  {
   "cell_type": "code",
   "execution_count": 55,
   "id": "65cbeee3",
   "metadata": {},
   "outputs": [],
   "source": [
    "data_final[['greeting',\n",
    "              'bye_word',\n",
    "              'introduce_yourself']] = np.where(data_final[['greeting',\n",
    "                                                             'bye_word',\n",
    "                                                             'introduce_yourself']] == \"True\", True, False)"
   ]
  },
  {
   "cell_type": "code",
   "execution_count": 57,
   "id": "dc9aac06",
   "metadata": {},
   "outputs": [
    {
     "data": {
      "text/html": [
       "<div>\n",
       "<style scoped>\n",
       "    .dataframe tbody tr th:only-of-type {\n",
       "        vertical-align: middle;\n",
       "    }\n",
       "\n",
       "    .dataframe tbody tr th {\n",
       "        vertical-align: top;\n",
       "    }\n",
       "\n",
       "    .dataframe thead th {\n",
       "        text-align: right;\n",
       "    }\n",
       "</style>\n",
       "<table border=\"1\" class=\"dataframe\">\n",
       "  <thead>\n",
       "    <tr style=\"text-align: right;\">\n",
       "      <th></th>\n",
       "      <th>dlg_id</th>\n",
       "      <th>line_n</th>\n",
       "      <th>role</th>\n",
       "      <th>text</th>\n",
       "      <th>clean_text</th>\n",
       "      <th>name</th>\n",
       "      <th>company</th>\n",
       "      <th>greeting</th>\n",
       "      <th>bye_word</th>\n",
       "      <th>introduce_yourself</th>\n",
       "    </tr>\n",
       "  </thead>\n",
       "  <tbody>\n",
       "    <tr>\n",
       "      <th>0</th>\n",
       "      <td>0</td>\n",
       "      <td>0</td>\n",
       "      <td>client</td>\n",
       "      <td>Алло</td>\n",
       "      <td>алло</td>\n",
       "      <td>NaN</td>\n",
       "      <td>NaN</td>\n",
       "      <td>False</td>\n",
       "      <td>False</td>\n",
       "      <td>False</td>\n",
       "    </tr>\n",
       "    <tr>\n",
       "      <th>1</th>\n",
       "      <td>0</td>\n",
       "      <td>1</td>\n",
       "      <td>manager</td>\n",
       "      <td>Алло здравствуйте</td>\n",
       "      <td>алло здравствуйте</td>\n",
       "      <td>NaN</td>\n",
       "      <td>NaN</td>\n",
       "      <td>True</td>\n",
       "      <td>False</td>\n",
       "      <td>False</td>\n",
       "    </tr>\n",
       "    <tr>\n",
       "      <th>2</th>\n",
       "      <td>0</td>\n",
       "      <td>2</td>\n",
       "      <td>client</td>\n",
       "      <td>Добрый день</td>\n",
       "      <td>добрый день</td>\n",
       "      <td>NaN</td>\n",
       "      <td>NaN</td>\n",
       "      <td>False</td>\n",
       "      <td>False</td>\n",
       "      <td>False</td>\n",
       "    </tr>\n",
       "    <tr>\n",
       "      <th>3</th>\n",
       "      <td>0</td>\n",
       "      <td>3</td>\n",
       "      <td>manager</td>\n",
       "      <td>Меня зовут ангелина компания диджитал бизнес з...</td>\n",
       "      <td>зовут ангелина компания диджитал бизнес звоним...</td>\n",
       "      <td>ангелина</td>\n",
       "      <td>диджитал бизнес</td>\n",
       "      <td>False</td>\n",
       "      <td>False</td>\n",
       "      <td>True</td>\n",
       "    </tr>\n",
       "    <tr>\n",
       "      <th>4</th>\n",
       "      <td>0</td>\n",
       "      <td>4</td>\n",
       "      <td>client</td>\n",
       "      <td>Ага</td>\n",
       "      <td>ага</td>\n",
       "      <td>NaN</td>\n",
       "      <td>NaN</td>\n",
       "      <td>False</td>\n",
       "      <td>False</td>\n",
       "      <td>False</td>\n",
       "    </tr>\n",
       "    <tr>\n",
       "      <th>5</th>\n",
       "      <td>0</td>\n",
       "      <td>5</td>\n",
       "      <td>manager</td>\n",
       "      <td>Угу ну возможно вы рассмотрите и другие вариан...</td>\n",
       "      <td>возможно рассмотрите другие варианты видите хо...</td>\n",
       "      <td>NaN</td>\n",
       "      <td>NaN</td>\n",
       "      <td>False</td>\n",
       "      <td>False</td>\n",
       "      <td>False</td>\n",
       "    </tr>\n",
       "    <tr>\n",
       "      <th>6</th>\n",
       "      <td>0</td>\n",
       "      <td>6</td>\n",
       "      <td>client</td>\n",
       "      <td>Да мы работаем с компанией которая нам подлива...</td>\n",
       "      <td>работаем компанией которая нам подливает поэто...</td>\n",
       "      <td>NaN</td>\n",
       "      <td>которая нам</td>\n",
       "      <td>False</td>\n",
       "      <td>False</td>\n",
       "      <td>False</td>\n",
       "    </tr>\n",
       "    <tr>\n",
       "      <th>7</th>\n",
       "      <td>0</td>\n",
       "      <td>7</td>\n",
       "      <td>client</td>\n",
       "      <td>Как как бы уже до этого момента работаем все у...</td>\n",
       "      <td>момента работаем устраивает сопровождение поэтому</td>\n",
       "      <td>NaN</td>\n",
       "      <td>NaN</td>\n",
       "      <td>False</td>\n",
       "      <td>False</td>\n",
       "      <td>False</td>\n",
       "    </tr>\n",
       "    <tr>\n",
       "      <th>8</th>\n",
       "      <td>0</td>\n",
       "      <td>8</td>\n",
       "      <td>manager</td>\n",
       "      <td>Угу а на что вы обращаете внимание при выборе</td>\n",
       "      <td>обращаете внимание выборе</td>\n",
       "      <td>NaN</td>\n",
       "      <td>NaN</td>\n",
       "      <td>False</td>\n",
       "      <td>False</td>\n",
       "      <td>False</td>\n",
       "    </tr>\n",
       "    <tr>\n",
       "      <th>9</th>\n",
       "      <td>0</td>\n",
       "      <td>9</td>\n",
       "      <td>client</td>\n",
       "      <td>Как бы нет</td>\n",
       "      <td></td>\n",
       "      <td>NaN</td>\n",
       "      <td>NaN</td>\n",
       "      <td>False</td>\n",
       "      <td>False</td>\n",
       "      <td>False</td>\n",
       "    </tr>\n",
       "  </tbody>\n",
       "</table>\n",
       "</div>"
      ],
      "text/plain": [
       "   dlg_id  line_n     role                                               text  \\\n",
       "0       0       0   client                                               Алло   \n",
       "1       0       1  manager                                  Алло здравствуйте   \n",
       "2       0       2   client                                        Добрый день   \n",
       "3       0       3  manager  Меня зовут ангелина компания диджитал бизнес з...   \n",
       "4       0       4   client                                                Ага   \n",
       "5       0       5  manager  Угу ну возможно вы рассмотрите и другие вариан...   \n",
       "6       0       6   client  Да мы работаем с компанией которая нам подлива...   \n",
       "7       0       7   client  Как как бы уже до этого момента работаем все у...   \n",
       "8       0       8  manager      Угу а на что вы обращаете внимание при выборе   \n",
       "9       0       9   client                                         Как бы нет   \n",
       "\n",
       "                                          clean_text      name  \\\n",
       "0                                               алло       NaN   \n",
       "1                                  алло здравствуйте       NaN   \n",
       "2                                        добрый день       NaN   \n",
       "3  зовут ангелина компания диджитал бизнес звоним...  ангелина   \n",
       "4                                                ага       NaN   \n",
       "5  возможно рассмотрите другие варианты видите хо...       NaN   \n",
       "6  работаем компанией которая нам подливает поэто...       NaN   \n",
       "7  момента работаем устраивает сопровождение поэтому       NaN   \n",
       "8                          обращаете внимание выборе       NaN   \n",
       "9                                                          NaN   \n",
       "\n",
       "           company  greeting  bye_word  introduce_yourself  \n",
       "0              NaN     False     False               False  \n",
       "1              NaN      True     False               False  \n",
       "2              NaN     False     False               False  \n",
       "3  диджитал бизнес     False     False                True  \n",
       "4              NaN     False     False               False  \n",
       "5              NaN     False     False               False  \n",
       "6      которая нам     False     False               False  \n",
       "7              NaN     False     False               False  \n",
       "8              NaN     False     False               False  \n",
       "9              NaN     False     False               False  "
      ]
     },
     "execution_count": 57,
     "metadata": {},
     "output_type": "execute_result"
    }
   ],
   "source": [
    "data_final.head(10)"
   ]
  },
  {
   "cell_type": "markdown",
   "id": "ec4de773",
   "metadata": {},
   "source": [
    "# Возникшие сложности"
   ]
  },
  {
   "cell_type": "markdown",
   "id": "a0f32aac",
   "metadata": {},
   "source": [
    "* **При извлечении имен и названий компаний**"
   ]
  },
  {
   "cell_type": "markdown",
   "id": "7c935ef0",
   "metadata": {},
   "source": [
    "* При использовании библиотеки `spaCy` можно адекватно извлечь имена в репликах, но название компании таким способом извлечь не получилось. Основная сложность в том, что название компании написано с маленькой буквы и никак не обозначено пунктуацией. Поэтому отличить название от другого любого текста в этих репликах на данном этапе работы над проектом, получилось только способом описанным выше.\n",
    "* Менеджер может называть не только свое имя, но и имя клиента или коллеги. В данном случае, очень сложно понять какое конкретно имя соответствует имени менееджера. В одном из реплик датасета, менеджер упоминает имя клиента, имя своей колллеги, но не называет своего имени. Так же и клиент может называть как свое имя, когда представляется, так и имя менеджера, когда к нему обращается."
   ]
  },
  {
   "cell_type": "code",
   "execution_count": 37,
   "id": "5ab00007",
   "metadata": {},
   "outputs": [],
   "source": [
    "import spacy\n",
    "from spacy.lang.ru import Russian"
   ]
  },
  {
   "cell_type": "code",
   "execution_count": 38,
   "id": "ac4f17f8",
   "metadata": {},
   "outputs": [
    {
     "name": "stdout",
     "output_type": "stream",
     "text": [
      "ангелина PER\n",
      "хирам PER\n",
      "э PER\n",
      "делайте аудиты PER\n",
      "ангелина PER\n",
      "ватсап PER\n",
      "денис дэ е эн PER\n",
      "ангелина PER\n",
      "кэшбэка PER\n",
      "ватсап почту PER\n",
      "сапаров PER\n",
      "астана LOC\n",
      "кз ORG\n",
      "жесупов PER\n",
      "дмитрий PER\n",
      "максим PER\n",
      "дмитрий коллега анастасия PER\n",
      "сэйл ботом PER\n",
      "инбокс PER\n",
      "амо ORG\n",
      "амо ORG\n",
      "си эр эм PER\n",
      "айдар PER\n",
      "главное LOC\n",
      "дима PER\n",
      "ла ла ла PER\n",
      "анастасия PER\n",
      "амо ORG\n",
      "хэлп PER\n",
      "вячеслав PER\n",
      "максим PER\n",
      "дмитрий PER\n"
     ]
    }
   ],
   "source": [
    "nlp = spacy.load(\"ru_core_news_md\")\n",
    "for i in range(len(data['clean_text'])):\n",
    "    doc = nlp(data['clean_text'][i])\n",
    "    for ent in doc.ents:\n",
    "         print(ent.text, ent.label_)"
   ]
  },
  {
   "cell_type": "markdown",
   "id": "f5a72106",
   "metadata": {},
   "source": [
    "При использовании библиотеки `natasha` извлеть какие-липбо сущности на данном этапе выполнения задания не удалось."
   ]
  },
  {
   "cell_type": "code",
   "execution_count": 58,
   "id": "263d40e8",
   "metadata": {},
   "outputs": [
    {
     "name": "stdout",
     "output_type": "stream",
     "text": [
      "None\n"
     ]
    }
   ],
   "source": [
    "from natasha import (\n",
    "    Segmenter,\n",
    "    MorphVocab,\n",
    "    \n",
    "    NewsEmbedding,\n",
    "    NewsMorphTagger,\n",
    "    NewsSyntaxParser,\n",
    "    NewsNERTagger,\n",
    "    \n",
    "    PER,\n",
    "    NamesExtractor,\n",
    "\n",
    "    Doc\n",
    ")\n",
    "\n",
    "\n",
    "segmenter = Segmenter()\n",
    "morph_vocab = MorphVocab()\n",
    "\n",
    "emb = NewsEmbedding()\n",
    "morph_tagger = NewsMorphTagger(emb)\n",
    "syntax_parser = NewsSyntaxParser(emb)\n",
    "ner_tagger = NewsNERTagger(emb)\n",
    "\n",
    "names_extractor = NamesExtractor(morph_vocab)\n",
    "\n",
    "for i in range(len(data['text'])):\n",
    "    text = data['text'][i]\n",
    "    doc = Doc(text)\n",
    "    \n",
    "print(doc.spans)"
   ]
  },
  {
   "cell_type": "markdown",
   "id": "12d60b00",
   "metadata": {},
   "source": [
    "#  Возможное улучшение решения задачи"
   ]
  },
  {
   "cell_type": "markdown",
   "id": "64b47a3e",
   "metadata": {},
   "source": [
    "* Более детально разобраться в настройках библиотека `spaCy`, возможно этот позволит улучшить результат извлечения сущностей.\n",
    "* Использовать предобученную нейроную сеть (BERT).\n",
    "* Изучить как `pymorphy2` может помочь в извлечении реплик с приветствием и прощанием."
   ]
  },
  {
   "cell_type": "markdown",
   "id": "91ca25a6",
   "metadata": {},
   "source": [
    "# Вывод"
   ]
  },
  {
   "cell_type": "markdown",
   "id": "bc09267b",
   "metadata": {},
   "source": [
    "В результате выполнения задания получили новый датасет, в котором в колонке \n",
    "* `name` - имя, упомянутое в ремплике,\n",
    "* `company` - название компании, упомянутое в реплике,\n",
    "* `greeting`- есть ли в реплике приветствие (если да - True, если нет - False),\n",
    "* `bye_word`- если ли в реплике слова прощания (если да - True, если нет - False),\n",
    "* `introduce_yourself` - представил ли себя менеджер в этой реплике (если да - True, если нет - False)."
   ]
  },
  {
   "cell_type": "code",
   "execution_count": null,
   "id": "efa3e7bb",
   "metadata": {},
   "outputs": [],
   "source": []
  }
 ],
 "metadata": {
  "kernelspec": {
   "display_name": "Python 3 (ipykernel)",
   "language": "python",
   "name": "python3"
  },
  "language_info": {
   "codemirror_mode": {
    "name": "ipython",
    "version": 3
   },
   "file_extension": ".py",
   "mimetype": "text/x-python",
   "name": "python",
   "nbconvert_exporter": "python",
   "pygments_lexer": "ipython3",
   "version": "3.9.12"
  },
  "toc": {
   "base_numbering": "1",
   "nav_menu": {},
   "number_sections": true,
   "sideBar": true,
   "skip_h1_title": false,
   "title_cell": "Table of Contents",
   "title_sidebar": "Contents",
   "toc_cell": false,
   "toc_position": {
    "height": "calc(100% - 180px)",
    "left": "10px",
    "top": "150px",
    "width": "288px"
   },
   "toc_section_display": true,
   "toc_window_display": true
  }
 },
 "nbformat": 4,
 "nbformat_minor": 5
}
