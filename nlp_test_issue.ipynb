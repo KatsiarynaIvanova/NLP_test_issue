{
 "cells": [
  {
   "cell_type": "markdown",
   "id": "444d3cf3",
   "metadata": {},
   "source": [
    "# Named Entity Recognition"
   ]
  },
  {
   "cell_type": "markdown",
   "id": "63be8e2a",
   "metadata": {},
   "source": [
    "Задачи:\n",
    "\n",
    "* Извлекать реплики с приветствием – где менеджер поздоровался. \n",
    "* Извлекать реплики, где менеджер представил себя. \n",
    "* Извлекать имя менеджера. \n",
    "* Извлекать название компании. \n",
    "* Извлекать реплики, где менеджер попрощался.\n",
    "* Проверять требование к менеджеру: «В каждом диалоге обязательно необходимо поздороваться и попрощаться с клиентом»\n"
   ]
  },
  {
   "cell_type": "markdown",
   "id": "6db6c0dd",
   "metadata": {},
   "source": [
    "# Предобработка текста"
   ]
  },
  {
   "cell_type": "code",
   "execution_count": 1,
   "id": "40a154f7",
   "metadata": {},
   "outputs": [
    {
     "name": "stderr",
     "output_type": "stream",
     "text": [
      "/Users/daivanov/opt/anaconda3/envs/ds_practicum_env/lib/python3.9/site-packages/scipy/__init__.py:146: UserWarning: A NumPy version >=1.16.5 and <1.23.0 is required for this version of SciPy (detected version 1.23.1\n",
      "  warnings.warn(f\"A NumPy version >={np_minversion} and <{np_maxversion}\"\n"
     ]
    }
   ],
   "source": [
    "import pandas as pd\n",
    "import re\n",
    "import nltk\n",
    "import numpy as np\n",
    "import pymorphy2\n",
    "\n",
    "from nltk.corpus import stopwords\n",
    "from nltk.tokenize import word_tokenize\n",
    "from nltk.stem import WordNetLemmatizer"
   ]
  },
  {
   "cell_type": "code",
   "execution_count": 2,
   "id": "c6bc332d",
   "metadata": {},
   "outputs": [
    {
     "name": "stderr",
     "output_type": "stream",
     "text": [
      "[nltk_data] Downloading package wordnet to\n",
      "[nltk_data]     /Users/daivanov/nltk_data...\n",
      "[nltk_data]   Package wordnet is already up-to-date!\n",
      "[nltk_data] Downloading package stopwords to\n",
      "[nltk_data]     /Users/daivanov/nltk_data...\n",
      "[nltk_data]   Package stopwords is already up-to-date!\n"
     ]
    },
    {
     "data": {
      "text/plain": [
       "True"
      ]
     },
     "execution_count": 2,
     "metadata": {},
     "output_type": "execute_result"
    }
   ],
   "source": [
    "pip install pymorphy2\n",
    "nltk.download('wordnet') \n",
    "nltk.download('stopwords')"
   ]
  },
  {
   "cell_type": "code",
   "execution_count": 3,
   "id": "4781873d",
   "metadata": {},
   "outputs": [
    {
     "data": {
      "text/html": [
       "<div>\n",
       "<style scoped>\n",
       "    .dataframe tbody tr th:only-of-type {\n",
       "        vertical-align: middle;\n",
       "    }\n",
       "\n",
       "    .dataframe tbody tr th {\n",
       "        vertical-align: top;\n",
       "    }\n",
       "\n",
       "    .dataframe thead th {\n",
       "        text-align: right;\n",
       "    }\n",
       "</style>\n",
       "<table border=\"1\" class=\"dataframe\">\n",
       "  <thead>\n",
       "    <tr style=\"text-align: right;\">\n",
       "      <th></th>\n",
       "      <th>dlg_id</th>\n",
       "      <th>line_n</th>\n",
       "      <th>role</th>\n",
       "      <th>text</th>\n",
       "    </tr>\n",
       "  </thead>\n",
       "  <tbody>\n",
       "    <tr>\n",
       "      <th>0</th>\n",
       "      <td>0</td>\n",
       "      <td>0</td>\n",
       "      <td>client</td>\n",
       "      <td>Алло</td>\n",
       "    </tr>\n",
       "    <tr>\n",
       "      <th>1</th>\n",
       "      <td>0</td>\n",
       "      <td>1</td>\n",
       "      <td>manager</td>\n",
       "      <td>Алло здравствуйте</td>\n",
       "    </tr>\n",
       "    <tr>\n",
       "      <th>2</th>\n",
       "      <td>0</td>\n",
       "      <td>2</td>\n",
       "      <td>client</td>\n",
       "      <td>Добрый день</td>\n",
       "    </tr>\n",
       "    <tr>\n",
       "      <th>3</th>\n",
       "      <td>0</td>\n",
       "      <td>3</td>\n",
       "      <td>manager</td>\n",
       "      <td>Меня зовут ангелина компания диджитал бизнес з...</td>\n",
       "    </tr>\n",
       "    <tr>\n",
       "      <th>4</th>\n",
       "      <td>0</td>\n",
       "      <td>4</td>\n",
       "      <td>client</td>\n",
       "      <td>Ага</td>\n",
       "    </tr>\n",
       "  </tbody>\n",
       "</table>\n",
       "</div>"
      ],
      "text/plain": [
       "   dlg_id  line_n     role                                               text\n",
       "0       0       0   client                                               Алло\n",
       "1       0       1  manager                                  Алло здравствуйте\n",
       "2       0       2   client                                        Добрый день\n",
       "3       0       3  manager  Меня зовут ангелина компания диджитал бизнес з...\n",
       "4       0       4   client                                                Ага"
      ]
     },
     "execution_count": 3,
     "metadata": {},
     "output_type": "execute_result"
    }
   ],
   "source": [
    "data = pd.read_csv('test_data.csv')\n",
    "data.head(5)"
   ]
  },
  {
   "cell_type": "code",
   "execution_count": 4,
   "id": "f41e2db4",
   "metadata": {},
   "outputs": [],
   "source": [
    "# Напишем функцию позволяющею подготовить текст\n",
    "lemmatizer = WordNetLemmatizer()\n",
    "stopwords = set(stopwords.words('russian'))\n",
    "stopwords = stopwords.union(set(['что', 'это', 'так', 'вот', 'быть', 'как', 'в', '—', '–', 'к', 'на', 'угу']))\n",
    "\n",
    "def data_preparation(text):\n",
    "    \n",
    "    \"используем регулярные выражения для очистки текста\"\n",
    "        \n",
    "    text = re.sub(r'[^а-яА-Я]', ' ', text)\n",
    "    text = text.lower()\n",
    "    \n",
    "    text = nltk.word_tokenize(text)\n",
    "    text = [word for word in text if word not in stopwords]\n",
    "    \n",
    "    text_lemm = [lemmatizer.lemmatize(word) for word in text]\n",
    "    \n",
    "    clean_text = \" \".join(text_lemm)\n",
    "       \n",
    "    return clean_text\n",
    "\n",
    "data['clean_text'] = data['text'].apply(data_preparation)"
   ]
  },
  {
   "cell_type": "code",
   "execution_count": null,
   "id": "8322b48d",
   "metadata": {},
   "outputs": [],
   "source": []
  },
  {
   "cell_type": "markdown",
   "id": "040f688f",
   "metadata": {},
   "source": [
    "# Извлекаем имя менеджера"
   ]
  },
  {
   "cell_type": "code",
   "execution_count": 6,
   "id": "4fff6ed8",
   "metadata": {},
   "outputs": [],
   "source": [
    "data_manager = data.query('role == \"manager\"')\n",
    "data_manager = data_manager.reset_index()\n",
    "\n",
    "prob_thresh = 0.4\n",
    "line_id = []\n",
    "name = []\n",
    "\n",
    "morph = pymorphy2.MorphAnalyzer()\n",
    "for i in range(len(data_manager['clean_text'])):\n",
    "    text = data_manager['clean_text'][i]\n",
    "    \n",
    "    for word in nltk.word_tokenize(text):\n",
    "        for p in morph.parse(word):\n",
    "            if 'Name' in p.tag and p.score >= prob_thresh:\n",
    "                line_id.append(i)\n",
    "                name.append(word)"
   ]
  },
  {
   "cell_type": "code",
   "execution_count": 7,
   "id": "64811577",
   "metadata": {},
   "outputs": [],
   "source": [
    "data_manager = data_manager.drop('index', axis=1)"
   ]
  },
  {
   "cell_type": "code",
   "execution_count": 8,
   "id": "ad562bb6",
   "metadata": {},
   "outputs": [
    {
     "data": {
      "text/plain": [
       "1       ангелина\n",
       "17      ангелина\n",
       "46      ангелина\n",
       "85       дмитрий\n",
       "86        максим\n",
       "87       дмитрий\n",
       "87     анастасия\n",
       "121    анастасия\n",
       "178     вячеслав\n",
       "181       максим\n",
       "196      дмитрий\n",
       "Name: name, dtype: object"
      ]
     },
     "execution_count": 8,
     "metadata": {},
     "output_type": "execute_result"
    }
   ],
   "source": [
    "name = pd.Series(data=name, index=line_id, name=\"name\")\n",
    "name"
   ]
  },
  {
   "cell_type": "code",
   "execution_count": 9,
   "id": "9bd79c3c",
   "metadata": {},
   "outputs": [],
   "source": [
    "df = data_manager.join(name, how='left')"
   ]
  },
  {
   "cell_type": "code",
   "execution_count": 10,
   "id": "46a16aee",
   "metadata": {},
   "outputs": [
    {
     "data": {
      "text/html": [
       "<div>\n",
       "<style scoped>\n",
       "    .dataframe tbody tr th:only-of-type {\n",
       "        vertical-align: middle;\n",
       "    }\n",
       "\n",
       "    .dataframe tbody tr th {\n",
       "        vertical-align: top;\n",
       "    }\n",
       "\n",
       "    .dataframe thead th {\n",
       "        text-align: right;\n",
       "    }\n",
       "</style>\n",
       "<table border=\"1\" class=\"dataframe\">\n",
       "  <thead>\n",
       "    <tr style=\"text-align: right;\">\n",
       "      <th></th>\n",
       "      <th>dlg_id</th>\n",
       "      <th>line_n</th>\n",
       "      <th>role</th>\n",
       "      <th>text</th>\n",
       "      <th>clean_text</th>\n",
       "      <th>name</th>\n",
       "    </tr>\n",
       "  </thead>\n",
       "  <tbody>\n",
       "    <tr>\n",
       "      <th>87</th>\n",
       "      <td>3</td>\n",
       "      <td>4</td>\n",
       "      <td>manager</td>\n",
       "      <td>Да дмитрий вот мне моя коллега анастасия подск...</td>\n",
       "      <td>дмитрий коллега анастасия подсказала какие отк...</td>\n",
       "      <td>дмитрий</td>\n",
       "    </tr>\n",
       "    <tr>\n",
       "      <th>87</th>\n",
       "      <td>3</td>\n",
       "      <td>4</td>\n",
       "      <td>manager</td>\n",
       "      <td>Да дмитрий вот мне моя коллега анастасия подск...</td>\n",
       "      <td>дмитрий коллега анастасия подсказала какие отк...</td>\n",
       "      <td>анастасия</td>\n",
       "    </tr>\n",
       "  </tbody>\n",
       "</table>\n",
       "</div>"
      ],
      "text/plain": [
       "    dlg_id  line_n     role  \\\n",
       "87       3       4  manager   \n",
       "87       3       4  manager   \n",
       "\n",
       "                                                 text  \\\n",
       "87  Да дмитрий вот мне моя коллега анастасия подск...   \n",
       "87  Да дмитрий вот мне моя коллега анастасия подск...   \n",
       "\n",
       "                                           clean_text       name  \n",
       "87  дмитрий коллега анастасия подсказала какие отк...    дмитрий  \n",
       "87  дмитрий коллега анастасия подсказала какие отк...  анастасия  "
      ]
     },
     "execution_count": 10,
     "metadata": {},
     "output_type": "execute_result"
    }
   ],
   "source": [
    "df.loc[87]"
   ]
  },
  {
   "cell_type": "markdown",
   "id": "6cee9da8",
   "metadata": {},
   "source": [
    "# Извлекаем реплики с приветствием – где менеджер поздоровался"
   ]
  },
  {
   "cell_type": "code",
   "execution_count": 11,
   "id": "a7b719e2",
   "metadata": {},
   "outputs": [],
   "source": [
    "greeting = ['здрав', 'добр', 'приве']\n",
    "number_greeting = []   \n",
    "for i in range(len(data_manager['text'])):\n",
    "    for word in greeting:\n",
    "        if word in data_manager['clean_text'][i] and data_manager['line_n'][i] < 3:\n",
    "            number_greeting.append(i)\n",
    "        else:\n",
    "            pass"
   ]
  },
  {
   "cell_type": "code",
   "execution_count": 12,
   "id": "eca505c9",
   "metadata": {},
   "outputs": [
    {
     "data": {
      "text/plain": [
       "[0, 16, 45, 85, 86]"
      ]
     },
     "execution_count": 12,
     "metadata": {},
     "output_type": "execute_result"
    }
   ],
   "source": [
    "number_greeting"
   ]
  },
  {
   "cell_type": "code",
   "execution_count": 13,
   "id": "c217467c",
   "metadata": {},
   "outputs": [],
   "source": [
    "greeting_ser = pd.Series(data=['True','True', 'True', 'True', 'True'], index=number_greeting, name=\"greeting\")\n",
    "df = df.join(greeting_ser, how='left')"
   ]
  },
  {
   "cell_type": "code",
   "execution_count": 14,
   "id": "fbcc51a8",
   "metadata": {},
   "outputs": [
    {
     "data": {
      "text/html": [
       "<div>\n",
       "<style scoped>\n",
       "    .dataframe tbody tr th:only-of-type {\n",
       "        vertical-align: middle;\n",
       "    }\n",
       "\n",
       "    .dataframe tbody tr th {\n",
       "        vertical-align: top;\n",
       "    }\n",
       "\n",
       "    .dataframe thead th {\n",
       "        text-align: right;\n",
       "    }\n",
       "</style>\n",
       "<table border=\"1\" class=\"dataframe\">\n",
       "  <thead>\n",
       "    <tr style=\"text-align: right;\">\n",
       "      <th></th>\n",
       "      <th>dlg_id</th>\n",
       "      <th>line_n</th>\n",
       "      <th>role</th>\n",
       "      <th>text</th>\n",
       "      <th>clean_text</th>\n",
       "      <th>name</th>\n",
       "      <th>greeting</th>\n",
       "    </tr>\n",
       "  </thead>\n",
       "  <tbody>\n",
       "    <tr>\n",
       "      <th>0</th>\n",
       "      <td>0</td>\n",
       "      <td>1</td>\n",
       "      <td>manager</td>\n",
       "      <td>Алло здравствуйте</td>\n",
       "      <td>алло здравствуйте</td>\n",
       "      <td>NaN</td>\n",
       "      <td>True</td>\n",
       "    </tr>\n",
       "    <tr>\n",
       "      <th>1</th>\n",
       "      <td>0</td>\n",
       "      <td>3</td>\n",
       "      <td>manager</td>\n",
       "      <td>Меня зовут ангелина компания диджитал бизнес з...</td>\n",
       "      <td>зовут ангелина компания диджитал бизнес звоним...</td>\n",
       "      <td>ангелина</td>\n",
       "      <td>NaN</td>\n",
       "    </tr>\n",
       "    <tr>\n",
       "      <th>2</th>\n",
       "      <td>0</td>\n",
       "      <td>5</td>\n",
       "      <td>manager</td>\n",
       "      <td>Угу ну возможно вы рассмотрите и другие вариан...</td>\n",
       "      <td>возможно рассмотрите другие варианты видите хо...</td>\n",
       "      <td>NaN</td>\n",
       "      <td>NaN</td>\n",
       "    </tr>\n",
       "    <tr>\n",
       "      <th>3</th>\n",
       "      <td>0</td>\n",
       "      <td>8</td>\n",
       "      <td>manager</td>\n",
       "      <td>Угу а на что вы обращаете внимание при выборе</td>\n",
       "      <td>обращаете внимание выборе</td>\n",
       "      <td>NaN</td>\n",
       "      <td>NaN</td>\n",
       "    </tr>\n",
       "    <tr>\n",
       "      <th>4</th>\n",
       "      <td>0</td>\n",
       "      <td>11</td>\n",
       "      <td>manager</td>\n",
       "      <td>Что для вас приоритет</td>\n",
       "      <td>приоритет</td>\n",
       "      <td>NaN</td>\n",
       "      <td>NaN</td>\n",
       "    </tr>\n",
       "  </tbody>\n",
       "</table>\n",
       "</div>"
      ],
      "text/plain": [
       "   dlg_id  line_n     role                                               text  \\\n",
       "0       0       1  manager                                  Алло здравствуйте   \n",
       "1       0       3  manager  Меня зовут ангелина компания диджитал бизнес з...   \n",
       "2       0       5  manager  Угу ну возможно вы рассмотрите и другие вариан...   \n",
       "3       0       8  manager      Угу а на что вы обращаете внимание при выборе   \n",
       "4       0      11  manager                              Что для вас приоритет   \n",
       "\n",
       "                                          clean_text      name greeting  \n",
       "0                                  алло здравствуйте       NaN     True  \n",
       "1  зовут ангелина компания диджитал бизнес звоним...  ангелина      NaN  \n",
       "2  возможно рассмотрите другие варианты видите хо...       NaN      NaN  \n",
       "3                          обращаете внимание выборе       NaN      NaN  \n",
       "4                                          приоритет       NaN      NaN  "
      ]
     },
     "execution_count": 14,
     "metadata": {},
     "output_type": "execute_result"
    }
   ],
   "source": [
    "df.head(5)"
   ]
  },
  {
   "cell_type": "markdown",
   "id": "905f366d",
   "metadata": {},
   "source": [
    "# Извлекаeм реплики, где менеджер попрощался"
   ]
  },
  {
   "cell_type": "code",
   "execution_count": 15,
   "id": "8bba1ced",
   "metadata": {},
   "outputs": [],
   "source": [
    "bye_word = ['свидан', 'добр', 'скоро']\n",
    "number_bye = []   \n",
    "for i in range(len(data_manager['text'])):\n",
    "    for word in bye_word:\n",
    "        if word in data_manager['clean_text'][i] and data_manager['line_n'][i] > 3:\n",
    "            number_bye.append(i)\n",
    "        else:\n",
    "            pass"
   ]
  },
  {
   "cell_type": "code",
   "execution_count": 16,
   "id": "abbfd176",
   "metadata": {},
   "outputs": [
    {
     "data": {
      "text/html": [
       "<div>\n",
       "<style scoped>\n",
       "    .dataframe tbody tr th:only-of-type {\n",
       "        vertical-align: middle;\n",
       "    }\n",
       "\n",
       "    .dataframe tbody tr th {\n",
       "        vertical-align: top;\n",
       "    }\n",
       "\n",
       "    .dataframe thead th {\n",
       "        text-align: right;\n",
       "    }\n",
       "</style>\n",
       "<table border=\"1\" class=\"dataframe\">\n",
       "  <thead>\n",
       "    <tr style=\"text-align: right;\">\n",
       "      <th></th>\n",
       "      <th>dlg_id</th>\n",
       "      <th>line_n</th>\n",
       "      <th>role</th>\n",
       "      <th>text</th>\n",
       "      <th>clean_text</th>\n",
       "      <th>name</th>\n",
       "      <th>greeting</th>\n",
       "      <th>bye_word</th>\n",
       "    </tr>\n",
       "  </thead>\n",
       "  <tbody>\n",
       "    <tr>\n",
       "      <th>199</th>\n",
       "      <td>5</td>\n",
       "      <td>139</td>\n",
       "      <td>manager</td>\n",
       "      <td>Все я вам высылаю счет и с вами на связи если ...</td>\n",
       "      <td>высылаю счет вами связи будут вопросы можете п...</td>\n",
       "      <td>NaN</td>\n",
       "      <td>NaN</td>\n",
       "      <td>NaN</td>\n",
       "    </tr>\n",
       "    <tr>\n",
       "      <th>200</th>\n",
       "      <td>5</td>\n",
       "      <td>142</td>\n",
       "      <td>manager</td>\n",
       "      <td>Ну до свидания хорошего вечера</td>\n",
       "      <td>свидания хорошего вечера</td>\n",
       "      <td>NaN</td>\n",
       "      <td>NaN</td>\n",
       "      <td>True</td>\n",
       "    </tr>\n",
       "  </tbody>\n",
       "</table>\n",
       "</div>"
      ],
      "text/plain": [
       "     dlg_id  line_n     role  \\\n",
       "199       5     139  manager   \n",
       "200       5     142  manager   \n",
       "\n",
       "                                                  text  \\\n",
       "199  Все я вам высылаю счет и с вами на связи если ...   \n",
       "200                     Ну до свидания хорошего вечера   \n",
       "\n",
       "                                            clean_text name greeting bye_word  \n",
       "199  высылаю счет вами связи будут вопросы можете п...  NaN      NaN      NaN  \n",
       "200                           свидания хорошего вечера  NaN      NaN     True  "
      ]
     },
     "execution_count": 16,
     "metadata": {},
     "output_type": "execute_result"
    }
   ],
   "source": [
    "bye_ser = pd.Series(data=['True','True', 'True', 'True', 'True'], index=number_bye, name=\"bye_word\")\n",
    "df = df.join(bye_ser, how='left')\n",
    "df.tail(2)"
   ]
  },
  {
   "cell_type": "markdown",
   "id": "9ebcc514",
   "metadata": {},
   "source": [
    "# Проверять требование к менеджеру: «В каждом диалоге обязательно необходимо поздороваться и попрощаться с клиентом»"
   ]
  },
  {
   "cell_type": "code",
   "execution_count": 17,
   "id": "f325f247",
   "metadata": {},
   "outputs": [],
   "source": [
    "data_group = df.groupby('dlg_id')[['greeting', 'bye_word']].count()"
   ]
  },
  {
   "cell_type": "code",
   "execution_count": 18,
   "id": "574161c7",
   "metadata": {},
   "outputs": [
    {
     "data": {
      "text/html": [
       "<div>\n",
       "<style scoped>\n",
       "    .dataframe tbody tr th:only-of-type {\n",
       "        vertical-align: middle;\n",
       "    }\n",
       "\n",
       "    .dataframe tbody tr th {\n",
       "        vertical-align: top;\n",
       "    }\n",
       "\n",
       "    .dataframe thead th {\n",
       "        text-align: right;\n",
       "    }\n",
       "</style>\n",
       "<table border=\"1\" class=\"dataframe\">\n",
       "  <thead>\n",
       "    <tr style=\"text-align: right;\">\n",
       "      <th></th>\n",
       "      <th>greeting</th>\n",
       "      <th>bye_word</th>\n",
       "    </tr>\n",
       "    <tr>\n",
       "      <th>dlg_id</th>\n",
       "      <th></th>\n",
       "      <th></th>\n",
       "    </tr>\n",
       "  </thead>\n",
       "  <tbody>\n",
       "    <tr>\n",
       "      <th>0</th>\n",
       "      <td>1</td>\n",
       "      <td>1</td>\n",
       "    </tr>\n",
       "    <tr>\n",
       "      <th>1</th>\n",
       "      <td>1</td>\n",
       "      <td>1</td>\n",
       "    </tr>\n",
       "    <tr>\n",
       "      <th>2</th>\n",
       "      <td>1</td>\n",
       "      <td>0</td>\n",
       "    </tr>\n",
       "    <tr>\n",
       "      <th>3</th>\n",
       "      <td>2</td>\n",
       "      <td>1</td>\n",
       "    </tr>\n",
       "    <tr>\n",
       "      <th>4</th>\n",
       "      <td>0</td>\n",
       "      <td>1</td>\n",
       "    </tr>\n",
       "    <tr>\n",
       "      <th>5</th>\n",
       "      <td>0</td>\n",
       "      <td>1</td>\n",
       "    </tr>\n",
       "  </tbody>\n",
       "</table>\n",
       "</div>"
      ],
      "text/plain": [
       "        greeting  bye_word\n",
       "dlg_id                    \n",
       "0              1         1\n",
       "1              1         1\n",
       "2              1         0\n",
       "3              2         1\n",
       "4              0         1\n",
       "5              0         1"
      ]
     },
     "execution_count": 18,
     "metadata": {},
     "output_type": "execute_result"
    }
   ],
   "source": [
    "data_group"
   ]
  },
  {
   "cell_type": "code",
   "execution_count": 19,
   "id": "7eca7d9b",
   "metadata": {},
   "outputs": [
    {
     "name": "stdout",
     "output_type": "stream",
     "text": [
      "В диалоге 1 менеджер поздоровался и попрощался с клиентом\n",
      "В диалоге 2 менеджер только поздаровался или порощался\n",
      "В диалоге 3 менеджер поздоровался и попрощался с клиентом\n",
      "В диалоге 4 менеджер только поздаровался или порощался\n",
      "В диалоге 5 менеджер только поздаровался или порощался\n"
     ]
    }
   ],
   "source": [
    "for i in range(1, 6):\n",
    "    if data_group['greeting'][i] != 0 and data_group['bye_word'][i] !=0:\n",
    "        print(f'В диалоге {i} менеджер поздоровался и попрощался с клиентом')\n",
    "    elif (data_group['greeting'][i] == 0 and data_group['bye_word'][i] !=0 or\n",
    "    data_group['greeting'][i] != 0 and data_group['bye_word'][i] ==0):\n",
    "        print(f'В диалоге {i} менеджер только поздаровался или порощался')\n",
    "    else:\n",
    "        print('Менеджер не поздаровался и не попращался')"
   ]
  },
  {
   "cell_type": "markdown",
   "id": "ac002da0",
   "metadata": {},
   "source": [
    "# Извлекать название компании"
   ]
  },
  {
   "cell_type": "code",
   "execution_count": 20,
   "id": "743bd2d1",
   "metadata": {},
   "outputs": [],
   "source": [
    "company = ['компани']\n",
    "number_company = []\n",
    "company_name=[]\n",
    "for i in range(len(data_manager['text'])):\n",
    "    for word in company:\n",
    "        if word in data_manager['clean_text'][i]:\n",
    "            number_company.append(i)\n",
    "            \n",
    "            t = data_manager['clean_text'][i]\n",
    "            name = ' '.join(t.split(word)[1].split(' ')[1:3])# 3 words \n",
    "            company_name.append(name)\n",
    "        else:\n",
    "            pass\n"
   ]
  },
  {
   "cell_type": "code",
   "execution_count": 21,
   "id": "1ef493e5",
   "metadata": {},
   "outputs": [
    {
     "data": {
      "text/html": [
       "<div>\n",
       "<style scoped>\n",
       "    .dataframe tbody tr th:only-of-type {\n",
       "        vertical-align: middle;\n",
       "    }\n",
       "\n",
       "    .dataframe tbody tr th {\n",
       "        vertical-align: top;\n",
       "    }\n",
       "\n",
       "    .dataframe thead th {\n",
       "        text-align: right;\n",
       "    }\n",
       "</style>\n",
       "<table border=\"1\" class=\"dataframe\">\n",
       "  <thead>\n",
       "    <tr style=\"text-align: right;\">\n",
       "      <th></th>\n",
       "      <th>dlg_id</th>\n",
       "      <th>line_n</th>\n",
       "      <th>role</th>\n",
       "      <th>text</th>\n",
       "      <th>clean_text</th>\n",
       "      <th>name</th>\n",
       "      <th>greeting</th>\n",
       "      <th>bye_word</th>\n",
       "      <th>company</th>\n",
       "    </tr>\n",
       "  </thead>\n",
       "  <tbody>\n",
       "    <tr>\n",
       "      <th>0</th>\n",
       "      <td>0</td>\n",
       "      <td>1</td>\n",
       "      <td>manager</td>\n",
       "      <td>Алло здравствуйте</td>\n",
       "      <td>алло здравствуйте</td>\n",
       "      <td>NaN</td>\n",
       "      <td>True</td>\n",
       "      <td>NaN</td>\n",
       "      <td>NaN</td>\n",
       "    </tr>\n",
       "    <tr>\n",
       "      <th>1</th>\n",
       "      <td>0</td>\n",
       "      <td>3</td>\n",
       "      <td>manager</td>\n",
       "      <td>Меня зовут ангелина компания диджитал бизнес з...</td>\n",
       "      <td>зовут ангелина компания диджитал бизнес звоним...</td>\n",
       "      <td>ангелина</td>\n",
       "      <td>NaN</td>\n",
       "      <td>NaN</td>\n",
       "      <td>диджитал бизнес</td>\n",
       "    </tr>\n",
       "  </tbody>\n",
       "</table>\n",
       "</div>"
      ],
      "text/plain": [
       "   dlg_id  line_n     role                                               text  \\\n",
       "0       0       1  manager                                  Алло здравствуйте   \n",
       "1       0       3  manager  Меня зовут ангелина компания диджитал бизнес з...   \n",
       "\n",
       "                                          clean_text      name greeting  \\\n",
       "0                                  алло здравствуйте       NaN     True   \n",
       "1  зовут ангелина компания диджитал бизнес звоним...  ангелина      NaN   \n",
       "\n",
       "  bye_word          company  \n",
       "0      NaN              NaN  \n",
       "1      NaN  диджитал бизнес  "
      ]
     },
     "execution_count": 21,
     "metadata": {},
     "output_type": "execute_result"
    }
   ],
   "source": [
    "com_ser = pd.Series(data= company_name[0:4], index=number_company[0:4], name=\"company\")\n",
    "df = df.join(com_ser, how='left')\n",
    "df.head(2)"
   ]
  },
  {
   "cell_type": "markdown",
   "id": "bf37d09c",
   "metadata": {},
   "source": [
    "# Извлекать реплики, где менеджер представил себя."
   ]
  },
  {
   "cell_type": "code",
   "execution_count": null,
   "id": "56fe8bf4",
   "metadata": {},
   "outputs": [],
   "source": [
    "Вероятнее всего менеджер представил себя в репликах, где есть "
   ]
  }
 ],
 "metadata": {
  "kernelspec": {
   "display_name": "Python 3 (ipykernel)",
   "language": "python",
   "name": "python3"
  },
  "language_info": {
   "codemirror_mode": {
    "name": "ipython",
    "version": 3
   },
   "file_extension": ".py",
   "mimetype": "text/x-python",
   "name": "python",
   "nbconvert_exporter": "python",
   "pygments_lexer": "ipython3",
   "version": "3.9.12"
  },
  "toc": {
   "base_numbering": 1,
   "nav_menu": {},
   "number_sections": true,
   "sideBar": true,
   "skip_h1_title": false,
   "title_cell": "Table of Contents",
   "title_sidebar": "Contents",
   "toc_cell": false,
   "toc_position": {},
   "toc_section_display": true,
   "toc_window_display": true
  }
 },
 "nbformat": 4,
 "nbformat_minor": 5
}
